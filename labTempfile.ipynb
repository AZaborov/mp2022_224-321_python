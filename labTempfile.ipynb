{
 "cells": [
  {
   "attachments": {},
   "cell_type": "markdown",
   "metadata": {},
   "source": [
    "# tempfile - Временные файлы и каталоги"
   ]
  },
  {
   "cell_type": "code",
   "execution_count": 1,
   "metadata": {},
   "outputs": [],
   "source": [
    "import tempfile"
   ]
  },
  {
   "cell_type": "code",
   "execution_count": 5,
   "metadata": {},
   "outputs": [
    {
     "data": {
      "text/plain": [
       "'C:\\\\Users\\\\Asus\\\\AppData\\\\Local\\\\Temp'"
      ]
     },
     "execution_count": 5,
     "metadata": {},
     "output_type": "execute_result"
    }
   ],
   "source": [
    "tempfile.gettempdir()"
   ]
  },
  {
   "cell_type": "code",
   "execution_count": 7,
   "metadata": {},
   "outputs": [
    {
     "name": "stdout",
     "output_type": "stream",
     "text": [
      "rb+\n",
      "C:\\Users\\Asus\\AppData\\Local\\Temp\\tmpkwypk1ii\n"
     ]
    }
   ],
   "source": [
    "with tempfile.TemporaryFile() as f:\n",
    "    print(f.mode)\n",
    "    print(f.name)"
   ]
  },
  {
   "cell_type": "code",
   "execution_count": 8,
   "metadata": {},
   "outputs": [
    {
     "name": "stdout",
     "output_type": "stream",
     "text": [
      "C:\\Users\\Asus\\AppData\\Local\\Temp\\tmpv2n2lzn5\n"
     ]
    }
   ],
   "source": [
    "with tempfile.TemporaryDirectory() as tempPath:\n",
    "    print(tempPath)"
   ]
  },
  {
   "cell_type": "code",
   "execution_count": 9,
   "metadata": {},
   "outputs": [
    {
     "name": "stdout",
     "output_type": "stream",
     "text": [
      "C:\\Users\\Asus\\AppData\\Local\\Temp\\___cn_rowanzzz\n"
     ]
    }
   ],
   "source": [
    "with tempfile.TemporaryDirectory(prefix='___', suffix='zzz') as tempPath:\n",
    "    print(tempPath)"
   ]
  },
  {
   "cell_type": "code",
   "execution_count": 51,
   "metadata": {},
   "outputs": [
    {
     "name": "stdout",
     "output_type": "stream",
     "text": [
      "Файл: C:\\Users\\Asus\\AppData\\Local\\Temp\\tmpbxxqz6ej\n",
      "{'Город': 'Михайловка', 'Регион': 'Волгоградская область', 'Федеральный округ': 'Южный', 'lat': '50,070847', 'lng': '43,239723'}\n",
      "{'Город': 'Суздаль', 'Регион': 'Владимирская область', 'Федеральный округ': 'Центральный', 'lat': '56,419836', 'lng': '40,449457'}\n",
      "{'Город': 'Кедровый', 'Регион': 'Томская область', 'Федеральный округ': 'Сибирский', 'lat': '57,560963', 'lng': '79,566965'}\n",
      "{'Город': 'ВышнийВолочёк', 'Регион': 'Тверская область', 'Федеральный округ': 'Центральный', 'lat': '61,006355', 'lng': '36,449511'}\n",
      "{'Город': 'Борисоглебск', 'Регион': 'Воронежская область', 'Федеральный округ': 'Центральный', 'lat': '51,367725', 'lng': '42,074977'}\n",
      "{'Город': 'Моршанск', 'Регион': 'Тамбовская область', 'Федеральный округ': 'Центральный', 'lat': '53,443611', 'lng': '41,811627'}\n",
      "{'Город': 'НижнийНовгород', 'Регион': 'Нижегородская область', 'Федеральный округ': 'Приволжский', 'lat': '54,901233', 'lng': '99,026387'}\n",
      "{'Город': 'Сухиничи', 'Регион': 'Калужская область', 'Федеральный округ': 'Центральный', 'lat': '54,101752', 'lng': '35,339319'}\n",
      "{'Город': 'Тында', 'Регион': 'Амурская область', 'Федеральный округ': 'Дальневосточный', 'lat': '55,154656', 'lng': '124,729236'}\n",
      "{'Город': 'Ивантеевка', 'Регион': 'Московская область', 'Федеральный округ': 'Центральный', 'lat': '55,971718', 'lng': '37,924338'}\n",
      "Файл: C:\\Users\\Asus\\AppData\\Local\\Temp\\tmpvl_ys1qd\n",
      "{'Город': 'Тында', 'Регион': 'Амурская область', 'Федеральный округ': 'Дальневосточный', 'lat': '55,154656', 'lng': '124,729236'}\n",
      "{'Город': 'Сухиничи', 'Регион': 'Калужская область', 'Федеральный округ': 'Центральный', 'lat': '54,101752', 'lng': '35,339319'}\n",
      "{'Город': 'Суздаль', 'Регион': 'Владимирская область', 'Федеральный округ': 'Центральный', 'lat': '56,419836', 'lng': '40,449457'}\n",
      "{'Город': 'НижнийНовгород', 'Регион': 'Нижегородская область', 'Федеральный округ': 'Приволжский', 'lat': '54,901233', 'lng': '99,026387'}\n",
      "{'Город': 'Моршанск', 'Регион': 'Тамбовская область', 'Федеральный округ': 'Центральный', 'lat': '53,443611', 'lng': '41,811627'}\n",
      "{'Город': 'Михайловка', 'Регион': 'Волгоградская область', 'Федеральный округ': 'Южный', 'lat': '50,070847', 'lng': '43,239723'}\n",
      "{'Город': 'Кедровый', 'Регион': 'Томская область', 'Федеральный округ': 'Сибирский', 'lat': '57,560963', 'lng': '79,566965'}\n",
      "{'Город': 'Ивантеевка', 'Регион': 'Московская область', 'Федеральный округ': 'Центральный', 'lat': '55,971718', 'lng': '37,924338'}\n",
      "{'Город': 'ВышнийВолочёк', 'Регион': 'Тверская область', 'Федеральный округ': 'Центральный', 'lat': '61,006355', 'lng': '36,449511'}\n",
      "{'Город': 'Борисоглебск', 'Регион': 'Воронежская область', 'Федеральный округ': 'Центральный', 'lat': '51,367725', 'lng': '42,074977'}\n"
     ]
    }
   ],
   "source": [
    "import tempfile\n",
    "import csv, random\n",
    "\n",
    "count_of_cities = 10\n",
    "# Выборка из 10 случайных городов\n",
    "cities = []\n",
    "with open(\"cities.csv\") as f:\n",
    "    reader = csv.DictReader(f, delimiter=';') \n",
    "    full = list(reader)\n",
    "    for i in range(count_of_cities):\n",
    "        cities.append(random.choice(full))\n",
    "\n",
    "\n",
    "# tempfile сохраняется в папке TEMP - в конце удалить в ручную!!!\n",
    "# Сохранение в файл\n",
    "with tempfile.NamedTemporaryFile(mode='w', delete=False) as csvfile:\n",
    "    writer = csv.DictWriter(csvfile, fieldnames=['Город', 'Регион', 'Федеральный округ', 'lat', 'lng'])\n",
    "    writer.writeheader()\n",
    "    print(\"Файл: \" + csvfile.name)\n",
    "    for i in range(len(cities)):\n",
    "        writer.writerow(cities[i])\n",
    "        print(cities[i])\n",
    "\n",
    "# Чтение из файла\n",
    "full = []\n",
    "with open(csvfile.name) as csvfile:\n",
    "    reader = csv.DictReader(csvfile)\n",
    "    full = list(reader)\n",
    "\n",
    "# Сортировка в обратном алфавитном порядке\n",
    "sorted_values = []\n",
    "for i in range(len(full)):\n",
    "    sorted_values.append(list(full[i].values())[0])\n",
    "\n",
    "sorted_values.sort(reverse=True)\n",
    "sorted = []\n",
    "\n",
    "for i in sorted_values:\n",
    "    for j in full:\n",
    "        if j[list(j.keys())[0]] == i:\n",
    "            sorted.append(j)\n",
    "            break\n",
    "\n",
    "# Сохранение нового файла\n",
    "with tempfile.NamedTemporaryFile(mode='w', delete=False) as csvfile:\n",
    "    writer = csv.DictWriter(csvfile, fieldnames=['Город', 'Регион', 'Федеральный округ', 'lat', 'lng'])\n",
    "    writer.writeheader()\n",
    "    print(\"Файл: \" + csvfile.name)\n",
    "    for i in range(len(sorted)):\n",
    "        writer.writerow(sorted[i])\n",
    "        print(sorted[i])"
   ]
  },
  {
   "cell_type": "code",
   "execution_count": 87,
   "metadata": {},
   "outputs": [
    {
     "name": "stdout",
     "output_type": "stream",
     "text": [
      "C:\\Users\\Asus\\AppData\\Local\\Temp\\tmpfolpu3ir\\Соль-Илецк.txt\n",
      "C:\\Users\\Asus\\AppData\\Local\\Temp\\tmpfolpu3ir\\Пыталово.txt\n",
      "C:\\Users\\Asus\\AppData\\Local\\Temp\\tmpfolpu3ir\\Кимры.txt\n",
      "C:\\Users\\Asus\\AppData\\Local\\Temp\\tmpfolpu3ir\\МариинскийПосад.txt\n",
      "C:\\Users\\Asus\\AppData\\Local\\Temp\\tmpfolpu3ir\\ВерхнийТагил.txt\n",
      "Кол-во файлов: 5\n",
      "['ВерхнийТагил.txt', 'Кимры.txt', 'МариинскийПосад.txt', 'Пыталово.txt', 'Соль-Илецк.txt']\n"
     ]
    }
   ],
   "source": [
    "import os\n",
    "N = int(input(\"Введите кол-во файлов\"))\n",
    "\n",
    "temp_dir = tempfile.TemporaryDirectory()\n",
    "\n",
    "# Выборка из 10 случайных городов\n",
    "cities = []\n",
    "with open(\"cities.csv\") as f:\n",
    "    reader = csv.DictReader(f, delimiter=';') \n",
    "    full = list(reader)\n",
    "    for i in range(N):\n",
    "        cities.append(random.choice(full))\n",
    "        path = temp_dir.name + \"\\\\\" + list(cities[i].values())[0] + \".txt\"\n",
    "        print(path)\n",
    "        text_file = open(path, \"w\")\n",
    "        text_file.write(str(cities[i]))\n",
    "        text_file.close()\n",
    "\n",
    "# Проверка\n",
    "_, _, files = next(os.walk(temp_dir.name))\n",
    "print(\"Кол-во файлов: \" + str(len(files)))\n",
    "print(files)"
   ]
  }
 ],
 "metadata": {
  "kernelspec": {
   "display_name": "Python 3.7.9 64-bit",
   "language": "python",
   "name": "python3"
  },
  "language_info": {
   "codemirror_mode": {
    "name": "ipython",
    "version": 3
   },
   "file_extension": ".py",
   "mimetype": "text/x-python",
   "name": "python",
   "nbconvert_exporter": "python",
   "pygments_lexer": "ipython3",
   "version": "3.7.9"
  },
  "orig_nbformat": 4,
  "vscode": {
   "interpreter": {
    "hash": "e3b2e3bd2a745b5c70b29c9358d0600487340c424f36c18e934e940c2eef002c"
   }
  }
 },
 "nbformat": 4,
 "nbformat_minor": 2
}
